{
 "cells": [
  {
   "cell_type": "code",
   "execution_count": 1,
   "metadata": {},
   "outputs": [],
   "source": [
    "import logging\n",
    "import os\n",
    "import pandas as pd\n",
    "import re\n",
    "import scrapy"
   ]
  },
  {
   "cell_type": "code",
   "execution_count": 13,
   "metadata": {},
   "outputs": [],
   "source": [
    "import scrapy\n",
    "from scrapy.crawler import CrawlerProcess\n",
    "from scrapy.linkextractors.lxmlhtml import LxmlLinkExtractor\n",
    "from googlesearch import search"
   ]
  },
  {
   "cell_type": "code",
   "execution_count": 17,
   "metadata": {},
   "outputs": [],
   "source": [
    "def get_urls(tag, n, language):\n",
    "    urls=[url for url in\n",
    "         search(tag, stop=n, lang=language)][:n]\n",
    "    return urls"
   ]
  },
  {
   "cell_type": "code",
   "execution_count": 24,
   "metadata": {},
   "outputs": [
    {
     "data": {
      "text/plain": [
       "['https://clutch.co/ke/it-services/analytics',\n",
       " 'https://www.goodfirms.co/big-data-analytics/kenya',\n",
       " 'https://nakala-analytics.co.ke/aboutus.html',\n",
       " 'https://nairobigarage.com/seven-companies-big-data/',\n",
       " 'https://www.sortlist.com/data-consulting/kenya-ke',\n",
       " 'https://home.kpmg/ke/en/home/services/advisory/risk-consulting/data-and-analytics.html',\n",
       " 'https://www.mazars.co.ke/Home/Our-expertise/Advisory-Services/Data-Analytics',\n",
       " 'https://www.datascience.co.ke/',\n",
       " 'http://www.bridgeanalytics.co.ke/',\n",
       " 'https://predictiveanalytics.co.ke/',\n",
       " 'https://www.quora.com/What-are-some-of-Kenyas-companies-offering-analytics-and-business-intelligence-solutions-to-SMEs',\n",
       " 'http://erepo.usiu.ac.ke/11732/3640',\n",
       " 'https://ona.io/jobs/data-analytics-lead.html',\n",
       " 'http://erepository.uonbi.ac.ke/handle/11295/98835',\n",
       " 'https://www.businessdailyafrica.com/datahub/Is-Kenya-tapping-its-vast-Big-Data-opportunities-/3815418-5451946-19xylz/index.html']"
      ]
     },
     "execution_count": 24,
     "metadata": {},
     "output_type": "execute_result"
    }
   ],
   "source": [
    "get_urls('data analytics firms in kenya', 15, 'en')"
   ]
  },
  {
   "cell_type": "code",
   "execution_count": 25,
   "metadata": {},
   "outputs": [
    {
     "data": {
      "text/plain": [
       "['https://clutch.co/ke/it-services/analytics',\n",
       " 'https://www.goodfirms.co/big-data-analytics/kenya',\n",
       " 'https://nairobigarage.com/seven-companies-big-data/',\n",
       " 'https://nakala-analytics.co.ke/aboutus.html',\n",
       " 'https://www.oracle.com/ke/big-data/',\n",
       " 'https://www.mazars.co.ke/Home/Our-expertise/Advisory-Services/Data-Analytics',\n",
       " 'https://www.datascience.co.ke/',\n",
       " 'https://www.sortlist.com/data-consulting/kenya-ke',\n",
       " 'https://home.kpmg/ke/en/home/services/advisory/risk-consulting/data-and-analytics.html',\n",
       " 'https://predictiveanalytics.co.ke/',\n",
       " 'http://www.bridgeanalytics.co.ke/',\n",
       " 'https://www.businessdailyafrica.com/datahub/Is-Kenya-tapping-its-vast-Big-Data-opportunities-/3815418-5451946-19xylz/index.html',\n",
       " 'http://erepository.uonbi.ac.ke/handle/11295/98835',\n",
       " 'https://ke.linkedin.com/jobs/big-data-jobs',\n",
       " 'https://ke.linkedin.com/in/timothy-oriedo-big-data-scientist-a156a58']"
      ]
     },
     "execution_count": 25,
     "metadata": {},
     "output_type": "execute_result"
    }
   ],
   "source": [
    "get_urls('big data companies in kenya', 15, 'en')"
   ]
  },
  {
   "cell_type": "code",
   "execution_count": null,
   "metadata": {},
   "outputs": [],
   "source": []
  }
 ],
 "metadata": {
  "kernelspec": {
   "display_name": "Python 3",
   "language": "python",
   "name": "python3"
  },
  "language_info": {
   "codemirror_mode": {
    "name": "ipython",
    "version": 3
   },
   "file_extension": ".py",
   "mimetype": "text/x-python",
   "name": "python",
   "nbconvert_exporter": "python",
   "pygments_lexer": "ipython3",
   "version": "3.7.4"
  }
 },
 "nbformat": 4,
 "nbformat_minor": 2
}
